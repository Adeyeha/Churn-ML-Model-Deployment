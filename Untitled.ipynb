{
 "cells": [
  {
   "cell_type": "code",
   "execution_count": 10,
   "id": "000c9bda",
   "metadata": {},
   "outputs": [],
   "source": [
    "import cx_Oracle\n",
    "# cx_Oracle.init_oracle_client(lib_dir=r\"db\\instantclient_21_3\")"
   ]
  },
  {
   "cell_type": "code",
   "execution_count": 11,
   "id": "8db433a5",
   "metadata": {},
   "outputs": [
    {
     "name": "stdout",
     "output_type": "stream",
     "text": [
      "[('0010020012461', '0.0', '0.0', '2022-06-30'), ('0010030018501', '0.0', '0.0', '2022-06-30'), ('0011520018501', '0.0', '0.06243007973624632', '2022-06-30'), ('0010230016371', '1.0', '0.6315719280902914', '2022-06-30'), ('0020230016921', '0.0', '0.0', '2022-06-30'), ('0010230015781', '1.0', '0.8990184664443747', '2022-06-30'), ('0010030017741', '0.0', '0.0', '2022-06-30'), ('0011520017741', '0.0', '0.0', '2022-06-30'), ('0011620018811', '0.0', '0.0', '2022-06-30'), ('0020230017011', '0.0', '0.0', '2022-06-30'), ('0021620017041', '0.0', '0.011128088829443092', '2022-06-30'), ('0011620016061', '1.0', '0.6315719280902914', '2022-06-30'), ('0010030014411', '0.0', '0.0', '2022-06-30'), ('0010230014481', '0.0', '0.0', '2022-06-30'), ('0011620014011', '0.0', '0.055944346830148435', '2022-06-30'), ('0010230016611', '0.0', '0.0', '2022-06-30'), ('0010020013611', '1.0', '0.6967955170340681', '2022-06-30'), ('0010230013601', '0.0', '0.0', '2022-06-30'), ('0010230013711', '1.0', '0.9605980110141061', '2022-06-30'), ('0011620013721', '0.0', '0.0', '2022-06-30')]\n"
     ]
    }
   ],
   "source": [
    "with cx_Oracle.connect(user=r'businessobjects', password='Password123', dsn=cx_Oracle.makedsn('10.236.8.101', '1521', service_name='ghadbp')) as conn:\n",
    "    c = conn.cursor()\n",
    "    c.execute(f\"\"\"select * from final_churn where rownum <= 20\"\"\")\n",
    "    print(c.fetchall())"
   ]
  },
  {
   "cell_type": "code",
   "execution_count": null,
   "id": "2ed2a5c8",
   "metadata": {},
   "outputs": [],
   "source": []
  }
 ],
 "metadata": {
  "kernelspec": {
   "display_name": "Python 3 (ipykernel)",
   "language": "python",
   "name": "python3"
  },
  "language_info": {
   "codemirror_mode": {
    "name": "ipython",
    "version": 3
   },
   "file_extension": ".py",
   "mimetype": "text/x-python",
   "name": "python",
   "nbconvert_exporter": "python",
   "pygments_lexer": "ipython3",
   "version": "3.9.12"
  }
 },
 "nbformat": 4,
 "nbformat_minor": 5
}
